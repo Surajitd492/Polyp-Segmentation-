{
  "cells": [
    {
      "cell_type": "code",
      "execution_count": null,
      "metadata": {
        "id": "JBhwlVZoqEbp"
      },
      "outputs": [],
      "source": [
        "from google.colab import drive\n",
        "drive.mount('/content/drive', force_remount = True)"
      ]
    },
    {
      "cell_type": "code",
      "execution_count": null,
      "metadata": {
        "id": "dJIqyJLCqLSV"
      },
      "outputs": [],
      "source": [
        "import os\n",
        "import cv2\n",
        "import numpy as np\n",
        "from glob import glob\n",
        "import tensorflow as tf\n",
        "from sklearn.model_selection import train_test_split"
      ]
    },
    {
      "cell_type": "code",
      "execution_count": null,
      "metadata": {
        "id": "9TDqZ3MUqQu8"
      },
      "outputs": [],
      "source": [
        "def load_data(path, split=0.1):\n",
        "  images = sorted(glob(os.path.join(path, \"images/*\" )))\n",
        "  masks = sorted(glob(os.path.join(path, \"masks/*\" )))\n",
        "\n",
        "  total_size = len(images)\n",
        "  valid_size = int(split * total_size)\n",
        "  test_size = int(split * total_size)\n",
        "\n",
        "  #print(total_size, valid_size, test_size)\n",
        "\n",
        "  train_x, valid_x = train_test_split(images, test_size = valid_size, random_state = 42)\n",
        "  train_y, valid_y = train_test_split(masks, test_size = valid_size, random_state = 42)\n",
        "\n",
        "  train_x, test_x = train_test_split(train_x, test_size = test_size, random_state = 42)\n",
        "  train_y, test_y = train_test_split(train_y, test_size = test_size, random_state = 42)\n",
        "\n",
        "  return(train_x, train_y), (valid_x, valid_y), (test_x, test_y)\n",
        "\n",
        "def read_image(path):\n",
        "  path = path.decode()\n",
        "  x = cv2.imread(path, cv2.IMREAD_COLOR)\n",
        "  x = cv2.resize(x, (256,256))\n",
        "  x = x/255.0    \n",
        "  return x\n",
        "\n",
        "def read_mask(path):\n",
        "  path = path.decode()\n",
        "  x = cv2.imread(path, cv2.IMREAD_GRAYSCALE)\n",
        "  x = cv2.resize(x, (256,256))\n",
        "  x = x/255.0\n",
        "  x = np.expand_dims(x, axis = -1)    \n",
        "  return x\n",
        "\n",
        "def tf_parse(x, y):\n",
        "  def _parse(x, y):\n",
        "    x = read_image(x)\n",
        "    y = read_mask(y)\n",
        "    return x, y\n",
        "\n",
        "  x, y = tf.numpy_function(_parse, [x, y], [tf.float64, tf.float64])\n",
        "  x.set_shape([256, 256, 3])\n",
        "  y.set_shape([256, 256, 1])\n",
        "\n",
        "  return x, y\n",
        "\n",
        "def tf_dataset(x, y, batch=8):\n",
        "  dataset = tf.data.Dataset.from_tensor_slices((x, y))\n",
        "  dataset = dataset.map(tf_parse)\n",
        "  dataset = dataset.batch(batch)\n",
        "  dataset = dataset.repeat()\n",
        "  return dataset"
      ]
    },
    {
      "cell_type": "code",
      "execution_count": null,
      "metadata": {
        "id": "nw7pCUopqVPz"
      },
      "outputs": [],
      "source": [
        "path = \"/content/drive/MyDrive/Polyp Work/Dataset\"\n",
        "(train_x, train_y), (valid_x, valid_y), (test_x, test_y) = load_data(path)\n",
        "print(len(train_x), len(valid_x), len(test_x))"
      ]
    },
    {
      "cell_type": "code",
      "execution_count": null,
      "metadata": {
        "id": "zYl4u-PXqYK6"
      },
      "outputs": [],
      "source": [
        "from tensorflow.keras.layers import Conv2D, BatchNormalization, Activation, UpSampling2D, Input, MaxPool2D, Concatenate\n",
        "from tensorflow.keras.models import Model"
      ]
    },
    {
      "cell_type": "code",
      "execution_count": null,
      "metadata": {
        "id": "nBO3Vih7qbc9"
      },
      "outputs": [],
      "source": [
        "def conv_block(x, num_filters):\n",
        "  x = Conv2D(num_filters, (3, 3), padding = \"same\")(x)\n",
        "  x = BatchNormalization()(x)\n",
        "  x = Activation(\"relu\")(x)\n",
        "\n",
        "  x = Conv2D(num_filters, (3, 3), padding = \"same\")(x)\n",
        "  x = BatchNormalization()(x)\n",
        "  x = Activation(\"relu\")(x)\n",
        "\n",
        "  return x\n",
        "\n",
        "def build_model():\n",
        "  size = 256\n",
        "  num_filters = [12,24,36,48]\n",
        "  inputs = Input(shape=(size, size, 3))\n",
        "\n",
        "  skip_x = []\n",
        "  x = inputs\n",
        "\n",
        "  for f in num_filters:\n",
        "    x = conv_block(x, f)\n",
        "    skip_x.append(x)\n",
        "    x = MaxPool2D((2, 2))(x)\n",
        "\n",
        "  x = conv_block(x, num_filters[-1])\n",
        "  num_filters.reverse()\n",
        "  skip_x.reverse()\n",
        "\n",
        "  for i, f in enumerate(num_filters):\n",
        "    x = UpSampling2D((2,2))(x)\n",
        "    xs = skip_x[i]\n",
        "    x = Concatenate()([x, xs])\n",
        "    x = conv_block(x, f)\n",
        "\n",
        "  x = Conv2D(1, (1, 1), padding = \"same\", name='my_last_Conv2D')(x)\n",
        "  x = Activation(\"sigmoid\")(x)\n",
        "\n",
        "  return Model(inputs, x)"
      ]
    },
    {
      "cell_type": "code",
      "execution_count": null,
      "metadata": {
        "id": "GZG43U_BqlcK"
      },
      "outputs": [],
      "source": [
        "model = build_model()\n",
        "model.summary()"
      ]
    },
    {
      "cell_type": "code",
      "execution_count": null,
      "metadata": {
        "id": "AoW63-KIqocX"
      },
      "outputs": [],
      "source": [
        "os.environ[\"TF_CPP_MIN_LOG_LEVEL\"] = \"2\"\n",
        "from tensorflow.keras.callbacks import EarlyStopping, ModelCheckpoint, ReduceLROnPlateau, CSVLogger, TensorBoard\n",
        "from tensorflow.keras.metrics import Recall, Precision"
      ]
    },
    {
      "cell_type": "code",
      "execution_count": null,
      "metadata": {
        "id": "yukDH2UAqxiX"
      },
      "outputs": [],
      "source": [
        "def iou(y_true, y_pred):\n",
        "  def f(y_true, y_pred):\n",
        "    intersection = (y_true * y_pred).sum()\n",
        "    union = y_true.sum() + y_pred.sum() - intersection\n",
        "    #x = (intersection + 1e-15) / (union + 1e-15)\n",
        "    x = (2.0 * intersection + 1e-8) / (union + 1e-8)\n",
        "    x = x.astype(np.float32)\n",
        "    return x\n",
        "  return tf.numpy_function(f, [y_true, y_pred], tf.float32)"
      ]
    },
    {
      "cell_type": "code",
      "execution_count": null,
      "metadata": {
        "id": "gVPBekk5q0Rd"
      },
      "outputs": [],
      "source": [
        "np.random.seed(42)\n",
        "tf.random.set_seed(42)\n",
        "batch = 8\n",
        "lr = 1e-4\n",
        "epochs = 100\n",
        "\n",
        "train_dataset = tf_dataset(train_x, train_y, batch = batch)\n",
        "valid_dataset = tf_dataset(valid_x, valid_y, batch = batch)\n",
        "\n",
        "opt = tf.keras.optimizers.Adam(lr)\n",
        "metrics = [\"acc\", Recall(), Precision(), iou]\n",
        "model.compile(loss = \"binary_crossentropy\", optimizer = opt, metrics = metrics)\n",
        "\n",
        "callbacks = [ ModelCheckpoint(\"/content/drive/MyDrive/3_U_Net.h5\"),\n",
        "    ReduceLROnPlateau(monitor = \"val_loss\", factor = 0.1, patience = 3),\n",
        "    TensorBoard(),\n",
        "    EarlyStopping(monitor = \"val_loss\", patience = 10, restore_best_weights = False)\n",
        "]\n",
        "\n",
        "\n",
        "train_steps = len(train_x) // batch\n",
        "valid_steps = len(valid_x) // batch\n",
        "\n",
        "if len(train_x) % batch !=0:\n",
        "    train_steps += 1\n",
        "\n",
        "if len(valid_x) % batch !=0:\n",
        "    valid_steps += 1\n",
        "  \n",
        "history = model.fit(\n",
        "    train_dataset, \n",
        "    validation_data = valid_dataset,\n",
        "    epochs = epochs,\n",
        "    steps_per_epoch = train_steps,\n",
        "    validation_steps = valid_steps,\n",
        "    callbacks = callbacks,\n",
        "    shuffle = False\n",
        "  )"
      ]
    },
    {
      "cell_type": "code",
      "execution_count": null,
      "metadata": {
        "id": "5XTl7oD7rAzE"
      },
      "outputs": [],
      "source": [
        "model.save(\"/content/drive/MyDrive/3_U_Net.h5\")"
      ]
    },
    {
      "cell_type": "code",
      "execution_count": null,
      "metadata": {
        "colab": {
          "base_uri": "https://localhost:8080/",
          "height": 887
        },
        "id": "ui1JqEHDsoHa",
        "outputId": "6515a0a0-035d-401f-d373-047da7d1e4ba"
      },
      "outputs": [
        {
          "output_type": "display_data",
          "data": {
            "text/plain": [
              "<Figure size 640x480 with 1 Axes>"
            ],
            "image/png": "[encoded data removed]"
          },
          "metadata": {}
        },
        {
          "output_type": "display_data",
          "data": {
            "text/plain": [
              "<Figure size 640x480 with 1 Axes>"
            ],
            "image/png": "[encoded data removed]"
          },
          "metadata": {}
        }
      ],
      "source": [
        "import matplotlib.pyplot as plt\n",
        "acc = history.history['acc']\n",
        "val_acc = history.history['val_acc']\n",
        "loss = history.history['loss']\n",
        "val_loss = history.history['val_loss']\n",
        "\n",
        "epochs = range(len(acc))\n",
        "\n",
        "plt.plot(epochs, acc, 'bo', label='Training accuracy')\n",
        "plt.plot(epochs, val_acc, 'b', label='Validation accuracy')\n",
        "plt.title('Training and validation accuracy')\n",
        "\n",
        "plt.figure()\n",
        "\n",
        "plt.plot(epochs, loss, 'bo', label='Training Loss')\n",
        "plt.plot(epochs, val_loss, 'b', label='Validation Loss')\n",
        "plt.title('Training and validation loss')\n",
        "plt.legend()\n",
        "\n",
        "plt.show()"
      ]
    },
    {
      "cell_type": "code",
      "execution_count": null,
      "metadata": {
        "colab": {
          "base_uri": "https://localhost:8080/"
        },
        "id": "06SyuRgTspVW",
        "outputId": "35805417-22b5-40e3-88d9-711e34cad364"
      },
      "outputs": [
        {
          "output_type": "stream",
          "name": "stdout",
          "text": [
            "Training Accuracy: 0.9762431383132935\n",
            "Training loss: 0.1617708057165146\n"
          ]
        }
      ],
      "source": [
        "acc = history.history['acc'][-1]\n",
        "loss = history.history['loss'][-1]\n",
        "print('Training Accuracy:',acc);\n",
        "print('Training loss:',loss)"
      ]
    },
    {
      "cell_type": "code",
      "source": [
        "batch = 16"
      ],
      "metadata": {
        "id": "5swNR7IabcS5"
      },
      "execution_count": null,
      "outputs": []
    },
    {
      "cell_type": "code",
      "execution_count": null,
      "metadata": {
        "id": "1QoiJ_JPssyd"
      },
      "outputs": [],
      "source": [
        "from tensorflow.keras.utils import CustomObjectScope\n",
        "\n",
        "test_dataset = tf_dataset(test_x, test_y, batch = batch)\n",
        "test_steps = len(test_x)//batch\n",
        "if len(test_x) % batch != 0:\n",
        "    test_steps += 1\n",
        "\n",
        "with CustomObjectScope({'iou': iou}):\n",
        "  model = tf.keras.models.load_model(\"/content/drive/MyDrive/2_U_Net.h5\")\n",
        "model.evaluate(test_dataset, steps = test_steps)"
      ]
    },
    {
      "cell_type": "code",
      "execution_count": null,
      "metadata": {
        "id": "x4zbYGSVs2_b"
      },
      "outputs": [],
      "source": [
        "def read_image(path):\n",
        "  x = cv2.imread(path, cv2.IMREAD_COLOR)\n",
        "  y = cv2.cvtColor(x, cv2.COLOR_RGB2BGR)\n",
        "  y = cv2.resize(y, (256,256))\n",
        "  y = y/255.0\n",
        "  x = cv2.resize(x, (256,256))\n",
        "  x = x/255.0    #(256, 256, 3)\n",
        "  return x, y\n",
        "\n",
        "def read_mask(path):\n",
        "  x = cv2.imread(path, cv2.IMREAD_GRAYSCALE)\n",
        "  x = cv2.resize(x, (256,256))\n",
        "  x = np.expand_dims(x, axis = -1)    #(256, 256, 1)\n",
        "  return x\n",
        "\n",
        "def mask_parse(mask):\n",
        "    mask = np.squeeze(mask)\n",
        "    mask = [mask, mask, mask]\n",
        "    mask = np.transpose(mask, (1, 2, 0))\n",
        "    return mask"
      ]
    },
    {
      "cell_type": "code",
      "execution_count": null,
      "metadata": {
        "id": "aULeFQvas9ea"
      },
      "outputs": [],
      "source": [
        "import cv2\n",
        "import matplotlib.pyplot as plt"
      ]
    },
    {
      "cell_type": "code",
      "execution_count": null,
      "metadata": {
        "id": "cCxhSXeotFzn"
      },
      "outputs": [],
      "source": [
        "from tqdm import tqdm\n",
        "for i, (x, y) in tqdm(enumerate(zip(test_x, test_y)), total = len(test_x)):\n",
        "        x, rgb_img = read_image(x)\n",
        "        y = read_mask(y)\n",
        "                \n",
        "        y_pred = model.predict(np.expand_dims(x, axis = 0))\n",
        "        y_pred = y_pred[0] > 0.5\n",
        "        h, w, _ = x.shape\n",
        "        \n",
        "        #x = cv2.cvtColor(image, cv2.COLOR_RGB2BGR)\n",
        "        white_line = np.ones((h, 10, 3)) * 255.0\n",
        "        \n",
        "        all_images = [\n",
        "            rgb_img, white_line, \n",
        "            mask_parse(y), white_line,\n",
        "            mask_parse(y_pred) * 255.0\n",
        "        ]\n",
        "        \n",
        "        image = np.concatenate(all_images, axis = 1)\n",
        "        \n",
        "        plt.imshow(image)\n",
        "        plt.show()\n",
        "        cv2.imwrite(f\"/content/drive/MyDrive/UNet_colorectal_polyp_classification /result/new1/{i}.png\", image)"
      ]
    },
    {
      "cell_type": "code",
      "execution_count": null,
      "metadata": {
        "colab": {
          "base_uri": "https://localhost:8080/"
        },
        "id": "teKa9weEyc94",
        "outputId": "399c1d3a-a9b7-47ce-dc26-f5e52ea78144"
      },
      "outputs": [
        {
          "name": "stdout",
          "output_type": "stream",
          "text": [
            "Looking in indexes: https://pypi.org/simple, https://us-python.pkg.dev/colab-wheels/public/simple/\n",
            "Collecting keract\n",
            "  Downloading keract-4.5.1-py3-none-any.whl (12 kB)\n",
            "Installing collected packages: keract\n",
            "Successfully installed keract-4.5.1\n"
          ]
        }
      ],
      "source": [
        "pip install keract"
      ]
    },
    {
      "cell_type": "code",
      "execution_count": null,
      "metadata": {
        "id": "St63LG3k18_1"
      },
      "outputs": [],
      "source": [
        "img_path = '/content/drive/MyDrive/Polyp Work/Dataset/images/1.png'"
      ]
    },
    {
      "cell_type": "code",
      "execution_count": null,
      "metadata": {
        "id": "ts9IKSNK4rU8"
      },
      "outputs": [],
      "source": [
        "from PIL import Image\n",
        "\n",
        "def preprocess_image(img_path, target_size):\n",
        "    img = Image.open(img_path)\n",
        "    img = img.resize(target_size)\n",
        "    x = np.array(img)\n",
        "    return x"
      ]
    },
    {
      "cell_type": "code",
      "execution_count": null,
      "metadata": {
        "id": "tGI57q_35j9n"
      },
      "outputs": [],
      "source": [
        "from keract import get_activations\n",
        "x = np.expand_dims(x, axis=0)\n",
        "#x = np.squeeze(x, axis=0)\n",
        "activations = get_activations(model, x)"
      ]
    },
    {
      "cell_type": "code",
      "execution_count": null,
      "metadata": {
        "id": "I5Wq_27J69zd"
      },
      "outputs": [],
      "source": [
        "from keract import display_activations\n",
        "display_activations(activations, save=False)"
      ]
    }
  ],
  "metadata": {
    "accelerator": "GPU",
    "colab": {
      "provenance": [],
      "gpuType": "T4"
    },
    "gpuClass": "standard",
    "kernelspec": {
      "display_name": "Python 3",
      "name": "python3"
    },
    "language_info": {
      "name": "python"
    }
  },
  "nbformat": 4,
  "nbformat_minor": 0
}